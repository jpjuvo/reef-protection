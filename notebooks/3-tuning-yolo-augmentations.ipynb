{
 "cells": [
  {
   "cell_type": "code",
   "execution_count": 19,
   "id": "0c0dbcd7",
   "metadata": {},
   "outputs": [],
   "source": [
    "import argparse\n",
    "import math\n",
    "import os\n",
    "import random\n",
    "import sys\n",
    "import time\n",
    "import yaml\n",
    "\n",
    "import numpy as np\n",
    "import torch\n",
    "\n",
    "import sys\n",
    "sys.path.append('../yolov5/')"
   ]
  },
  {
   "cell_type": "code",
   "execution_count": 2,
   "id": "b54a0619",
   "metadata": {},
   "outputs": [],
   "source": [
    "from utils.datasets import create_dataloader\n",
    "from utils.general import colorstr"
   ]
  },
  {
   "cell_type": "code",
   "execution_count": 3,
   "id": "ad529893",
   "metadata": {},
   "outputs": [],
   "source": [
    "import tkinter\n",
    "import matplotlib\n",
    "import matplotlib.pyplot as plt\n",
    "matplotlib.use('TkAgg')"
   ]
  },
  {
   "cell_type": "code",
   "execution_count": 52,
   "id": "fc3d6157",
   "metadata": {},
   "outputs": [
    {
     "name": "stderr",
     "output_type": "stream",
     "text": [
      "\u001b[34m\u001b[1mval: \u001b[0mScanning '../input/yolo_ds/0_val_images.cache' images and labels... 5280 found, 0 missing, 4335 \u001b[0m\n"
     ]
    }
   ],
   "source": [
    "with open('../configs/hyp.high-aug.yaml', errors='ignore') as f:\n",
    "    hyp = yaml.safe_load(f)\n",
    "dataloader = create_dataloader(\n",
    "    path='../input/yolo_ds/0_val_images.txt', \n",
    "    imgsz=1280, \n",
    "    batch_size=4, \n",
    "    stride=1, \n",
    "    single_cls=True,\n",
    "    hyp=hyp,\n",
    "    augment=True,\n",
    "    pad=0.0, \n",
    "    rect=False,\n",
    "    workers=0, \n",
    "    prefix=colorstr(f'val: '))[0]\n",
    "\n",
    "for batch_i, (im, targets, paths, shapes) in enumerate(dataloader):\n",
    "    break\n",
    "np_im = im.detach().numpy()\n",
    "\n",
    "f, axs = plt.subplots(2,2, figsize=(15,15))\n",
    "for i,ax in enumerate(axs.ravel()):\n",
    "    ax.imshow(np_im[i].transpose(1, 2, 0))\n",
    "plt.savefig('test.jpg')\n",
    "\n",
    "plt.close('all')"
   ]
  },
  {
   "cell_type": "code",
   "execution_count": 42,
   "id": "a75f8c77",
   "metadata": {},
   "outputs": [],
   "source": []
  },
  {
   "cell_type": "code",
   "execution_count": null,
   "id": "51d1b5d0",
   "metadata": {},
   "outputs": [],
   "source": []
  }
 ],
 "metadata": {
  "kernelspec": {
   "display_name": "Python 3 (ipykernel)",
   "language": "python",
   "name": "python3"
  },
  "language_info": {
   "codemirror_mode": {
    "name": "ipython",
    "version": 3
   },
   "file_extension": ".py",
   "mimetype": "text/x-python",
   "name": "python",
   "nbconvert_exporter": "python",
   "pygments_lexer": "ipython3",
   "version": "3.8.12"
  }
 },
 "nbformat": 4,
 "nbformat_minor": 5
}
